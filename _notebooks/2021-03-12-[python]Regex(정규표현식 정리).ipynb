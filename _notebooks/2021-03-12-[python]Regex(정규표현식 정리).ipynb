{
 "cells": [
  {
   "cell_type": "markdown",
   "metadata": {},
   "source": [
    "# 파이썬 정규표현식 정리\n",
    "> python의 re모듈을 활용한 정규표현식 사용법, 점프투파이썬 참고\n",
    "- toc: false\n",
    "- layout: post\n",
    "- title:  파이썬 정규표현식 정리\n",
    "- subtitle:   \n",
    "- categories: Archive\n",
    "- tags: python re\n",
    "- comments: true\n",
    "\n",
    "\n"
   ]
  },
  {
   "cell_type": "markdown",
   "metadata": {},
   "source": [
    "### 메타문자\n",
    "\n",
    "> 메타문자란 원래 그 문자가 가진 뜻이 아닌 특별한 용도로 사용하는 문자\n",
    "\n",
    "`. ^ $ * + ? {} [] \\ | ()`\n"
   ]
  },
  {
   "cell_type": "markdown",
   "metadata": {},
   "source": [
    "#### 문자 클래스 []\n",
    "> [ ] 사이의 문자들과 매치라는 의미. [ ] 사이에는 어떤 문자도 들어갈 수 있다.\n",
    "\n",
    "\n",
    "\n",
    "##### 반대 문자 ^\n",
    "> 반대라는 의미를 가진 메타문자\n",
    "\n",
    "- example\n",
    "    1. [^abc] : abc가 아닌 문자\n",
    "    2. [^1-9] : 숫자가 아닌 문자\n",
    "\n",
    "\n",
    "- example\n",
    "    1. [abc] : a,b,c중 한개의 문자와 매치\n",
    "    2. [a-f] : a와 f사이의 범위, [abcdef]와 동일한 의미를 갖는다.(From - To)\n",
    "    3. [a-zA-z] : 알파벳 모두\n",
    "    4. [0-9] : 숫자\n",
    "    5. [\\d] : 숫자와 매치, [0-9]와 동일한 표현\n",
    "    6. [\\D] : 숫자가 아닌 것과 매치, [^0-9]와 동일한 표현\n",
    "    7. [\\s] : whitespace 문자와 매치, [ \\t\\n\\r\\f\\v]와 동일한 표현식\n",
    "    8. [\\S] : whitespace 문자가 아닌 것과 매치, [^ \\t\\n\\r\\f\\v]와 동일한 표현식\n",
    "    9. [\\w] : 문자 + 숫자(alphanumeric)와 매치, [a-zA-Z0-9_]와 동일한 표현식\n",
    "    10. [\\W] : 문자 + 숫자(alphanumeric)가 아닌 문자와 매치, [^a-zA-Z0-9_]\n",
    "\n",
    "\n",
    "#### Dot(.)\n",
    "> \\n을 제외한 모든 문자와 매치(re.DOTALL은 \\n도 매치)\n",
    "\n",
    "- example\n",
    "    1. a.b : a+ 모든 문자 + b (a[.]b는 문자(.)을 의미하고 메타문자(.)을 의미하지 않는다)\n",
    "    \n",
    "\n",
    "#### 반복( *)\n",
    "> * 바로 앞에 있는 문자가 0부터 무한번 반복됨을 뜻함\n",
    "\n",
    "- example\n",
    "    1. ca*t : c와 t사이에 a가 0에서 무한번 반복\n",
    "        1. ct : true\n",
    "        2. cat : true\n",
    "        3. caat : true\n",
    "        \n",
    "#### 반복(+)\n",
    "> + 바로 앞에 있는 문자가 1부터 무한번 반복됨을 뜻함\n",
    "\n",
    "- example\n",
    "    1. ca+t : c와 t사이에 a가 1에서 무한번 반복\n",
    "        1. ct : false\n",
    "        2. cat : true\n",
    "        3. caat : true\n",
    "        \n",
    "#### 반복 ({m, n}, ?)\n",
    "> {m,n} m번에서 n번 반복되는 경우 / ?는 {0,1}과 같은 의미\n",
    "\n",
    "- example\n",
    "    1. {1,} : 1번 이상, + 와 같은 의미\n",
    "    2. {0,} : 0번 이상, * 와 같은 의미\n",
    "    3. ca{2}t : a가 반드시 2번 반복\n",
    "    4. ca{2,5}t : c + a(2-5회 반복) + t\n",
    "        1. cat : false\n",
    "        2. caat : true\n",
    "        3. caaaaat : true\n",
    "        4. caaaaaat : false\n",
    "    5. ab?c : a + b(있어도 되고 없어도 됨) + c\n",
    "        1. abc : true\n",
    "        2. ac : true"
   ]
  },
  {
   "cell_type": "markdown",
   "metadata": {},
   "source": [
    "### re모듈\n",
    "\n",
    "> python의 re(regular expression)은 기본으로 설치되어있는 모듈이다."
   ]
  },
  {
   "cell_type": "code",
   "execution_count": 2,
   "metadata": {},
   "outputs": [],
   "source": [
    "import re"
   ]
  },
  {
   "cell_type": "code",
   "execution_count": 3,
   "metadata": {},
   "outputs": [],
   "source": [
    "p = re.compile('ab*') # 'ab*'가 컴파일된 Pattern object를 반환한다."
   ]
  },
  {
   "cell_type": "markdown",
   "metadata": {},
   "source": [
    "#### re.complie 활용한 문자열 검색 method\n",
    "\n",
    "1. match() : 문자열의 처음부터 정규식과 매치되는지 조사\n",
    "2. search() : 문자열 전체를 검색하여 정규식과 매치되는지 조사\n",
    "3. findall() : 정규식과 매치되는 모든 문자열(substring)을 리스트로 반환함\n",
    "4. finditer() : 정규식과 매치되는 모든 문자열(substring)을 iterable한 객체로 반환함\n",
    "\n",
    "- match, search는 주어지는 문자열이 정규식과 매칭되면 match객체를 반환하고, 매칭되지 않을 때는 None을 반환함"
   ]
  },
  {
   "cell_type": "code",
   "execution_count": 4,
   "metadata": {},
   "outputs": [],
   "source": [
    "p = re.compile('[a-z]+') # 모든 영어소문자가 1번이상 반복되는 패턴\n",
    "p"
   ]
  },
  {
   "cell_type": "markdown",
   "metadata": {},
   "source": [
    "##### match"
   ]
  },
  {
   "cell_type": "code",
   "execution_count": 5,
   "metadata": {},
   "outputs": [],
   "source": [
    "m = p.match('python') # 컴파일한 정규표현식과 매칭되는 문자를 문자열 처음부터 매칭되는지 조사한 후, match객체 반환\n",
    "print(m) "
   ]
  },
  {
   "cell_type": "code",
   "execution_count": 6,
   "metadata": {},
   "outputs": [],
   "source": [
    "m = p.match('3 python') # 문자열 처음부터 매칭되지 않기 때문에 None 반환\n",
    "print(m)"
   ]
  },
  {
   "cell_type": "markdown",
   "metadata": {},
   "source": [
    "##### search"
   ]
  },
  {
   "cell_type": "code",
   "execution_count": 7,
   "metadata": {},
   "outputs": [],
   "source": [
    "m = p.search('python')\n",
    "print(m)"
   ]
  },
  {
   "cell_type": "code",
   "execution_count": 8,
   "metadata": {},
   "outputs": [],
   "source": [
    "m = p.search('3 python') # search는 match와 달리 문자열 처음부터가 아닌 전체에서 매칭되는지 확인하기 때문에 match객체 반환\n",
    "print(m)"
   ]
  },
  {
   "cell_type": "markdown",
   "metadata": {},
   "source": [
    "##### findall"
   ]
  },
  {
   "cell_type": "code",
   "execution_count": 9,
   "metadata": {},
   "outputs": [],
   "source": [
    "result = p.findall('life is too short') # 공백을 구분자로 컴파일한 패턴과 매칭되는 단어들을 담은 리스트가 반환\n",
    "print(result)"
   ]
  },
  {
   "cell_type": "markdown",
   "metadata": {},
   "source": [
    "##### finditer"
   ]
  },
  {
   "cell_type": "code",
   "execution_count": 10,
   "metadata": {},
   "outputs": [
    {
     "name": "stdout",
     "output_type": "stream",
     "text": [
      "<callable_iterator object at 0x7f7fa5071780>\n"
     ]
    }
   ],
   "source": [
    "result = p.finditer('life is too short') # 매칭되는 단어들의 match객체들을 담은 iterator를 반환\n",
    "print(result)"
   ]
  },
  {
   "cell_type": "code",
   "execution_count": 11,
   "metadata": {},
   "outputs": [
    {
     "name": "stdout",
     "output_type": "stream",
     "text": [
      "<re.Match object; span=(0, 4), match='life'>\n",
      "<re.Match object; span=(5, 7), match='is'>\n",
      "<re.Match object; span=(8, 11), match='too'>\n",
      "<re.Match object; span=(12, 17), match='short'>\n"
     ]
    }
   ],
   "source": [
    "for r in result: print(r)"
   ]
  },
  {
   "cell_type": "markdown",
   "metadata": {},
   "source": [
    "#### re.Match 객체의 method\n",
    "\n",
    "1. group() : 매치된 문자열을 반환\n",
    "2. start() : 매치된 문자열의 시작 위치를 반환\n",
    "3. end() : 매치된 문자열의 끝 위치를 반환\n",
    "4. span() : 매치된 문자열의 (시작, 끝)에 해당하는 튜플을 반환"
   ]
  },
  {
   "cell_type": "code",
   "execution_count": 12,
   "metadata": {},
   "outputs": [
    {
     "data": {
      "text/plain": [
       "'python'"
      ]
     },
     "execution_count": 12,
     "metadata": {},
     "output_type": "execute_result"
    }
   ],
   "source": [
    "m = p.match('python')\n",
    "m.group()"
   ]
  },
  {
   "cell_type": "code",
   "execution_count": 13,
   "metadata": {},
   "outputs": [
    {
     "data": {
      "text/plain": [
       "0"
      ]
     },
     "execution_count": 13,
     "metadata": {},
     "output_type": "execute_result"
    }
   ],
   "source": [
    "m.start()"
   ]
  },
  {
   "cell_type": "code",
   "execution_count": 14,
   "metadata": {},
   "outputs": [
    {
     "data": {
      "text/plain": [
       "6"
      ]
     },
     "execution_count": 14,
     "metadata": {},
     "output_type": "execute_result"
    }
   ],
   "source": [
    "m.end()"
   ]
  },
  {
   "cell_type": "code",
   "execution_count": 15,
   "metadata": {},
   "outputs": [
    {
     "data": {
      "text/plain": [
       "(0, 6)"
      ]
     },
     "execution_count": 15,
     "metadata": {},
     "output_type": "execute_result"
    }
   ],
   "source": [
    "m.span()"
   ]
  },
  {
   "cell_type": "code",
   "execution_count": 16,
   "metadata": {},
   "outputs": [
    {
     "data": {
      "text/plain": [
       "'python'"
      ]
     },
     "execution_count": 16,
     "metadata": {},
     "output_type": "execute_result"
    }
   ],
   "source": [
    "m = p.search('3 python')\n",
    "m.group()"
   ]
  },
  {
   "cell_type": "code",
   "execution_count": 17,
   "metadata": {},
   "outputs": [
    {
     "data": {
      "text/plain": [
       "2"
      ]
     },
     "execution_count": 17,
     "metadata": {},
     "output_type": "execute_result"
    }
   ],
   "source": [
    "m.start()"
   ]
  },
  {
   "cell_type": "code",
   "execution_count": 18,
   "metadata": {},
   "outputs": [
    {
     "data": {
      "text/plain": [
       "8"
      ]
     },
     "execution_count": 18,
     "metadata": {},
     "output_type": "execute_result"
    }
   ],
   "source": [
    "m.end()"
   ]
  },
  {
   "cell_type": "code",
   "execution_count": 19,
   "metadata": {},
   "outputs": [
    {
     "data": {
      "text/plain": [
       "(2, 8)"
      ]
     },
     "execution_count": 19,
     "metadata": {},
     "output_type": "execute_result"
    }
   ],
   "source": [
    "m.span()"
   ]
  },
  {
   "cell_type": "markdown",
   "metadata": {},
   "source": [
    "##### 모듈단위 수행"
   ]
  },
  {
   "cell_type": "code",
   "execution_count": 20,
   "metadata": {},
   "outputs": [],
   "source": [
    "p = re.compile('[a-z]+')\n",
    "m = p.match('python')"
   ]
  },
  {
   "cell_type": "code",
   "execution_count": 21,
   "metadata": {},
   "outputs": [],
   "source": [
    "m = re.match('[a-z]+', 'python') # 위의 두줄의 코드와 같은 기능"
   ]
  },
  {
   "cell_type": "markdown",
   "metadata": {},
   "source": [
    "#### 컴파일 옵션\n",
    "> re를 이용하여 정규식을 컴파일할 때 여러 옵션을 사용할 수 있다.\n",
    "\n",
    "1. DOTALL(S) - `.`이 줄바꿈 문자를 포함하여 모든 문자와 매치할 수 있도록 함.\n",
    "2. IGNORECASE(I) - 대소문자에 관계없이 매치할 수 있도록 함\n",
    "3. MULTILINE(M) - 여러줄과 매치할 수 있도록 함(`^`, `$` 메타문자의 사용과 관계가 있는 옵션)\n",
    "4. VERBOSE(X) - verbose모드를 사용할 수 있도록 함. (정규식을 보기 편하게 만들수 있고 주석등을 사용할 수 있음)\n",
    "\n",
    "\n",
    "\n",
    "- 약어사용 : re.DOTALL과 re.S는 같은 뜻"
   ]
  },
  {
   "cell_type": "markdown",
   "metadata": {},
   "source": [
    "##### DOTALL, S"
   ]
  },
  {
   "cell_type": "code",
   "execution_count": 22,
   "metadata": {},
   "outputs": [
    {
     "name": "stdout",
     "output_type": "stream",
     "text": [
      "None\n"
     ]
    }
   ],
   "source": [
    "p = re.compile('a.b')\n",
    "m = p.match('a\\nb') # DOTALL옵션을 사용하지 않으면 메타문자 . 은 공백문자에 매칭되지 않음 \n",
    "print(m)"
   ]
  },
  {
   "cell_type": "code",
   "execution_count": 23,
   "metadata": {},
   "outputs": [
    {
     "name": "stdout",
     "output_type": "stream",
     "text": [
      "<re.Match object; span=(0, 3), match='a\\nb'>\n"
     ]
    }
   ],
   "source": [
    "p = re.compile('a.b', re.DOTALL)\n",
    "m = p.match('a\\nb') # DOTALL옵션을 사용하면 메타문자 . 은 공백문자에 매칭됨, \n",
    "# 여러줄로 이루어진 문자열에서 \\n에 상관없이 매칭되도록 만들기 위해 자주 사용됨\n",
    "print(m)"
   ]
  },
  {
   "cell_type": "markdown",
   "metadata": {},
   "source": [
    "##### IGNORECASE, I"
   ]
  },
  {
   "cell_type": "code",
   "execution_count": 24,
   "metadata": {},
   "outputs": [
    {
     "data": {
      "text/plain": [
       "<re.Match object; span=(0, 1), match='p'>"
      ]
     },
     "execution_count": 24,
     "metadata": {},
     "output_type": "execute_result"
    }
   ],
   "source": [
    "p = re.compile('[a-z]', re.I)\n",
    "p.match('python')"
   ]
  },
  {
   "cell_type": "code",
   "execution_count": 25,
   "metadata": {},
   "outputs": [
    {
     "data": {
      "text/plain": [
       "<re.Match object; span=(0, 1), match='P'>"
      ]
     },
     "execution_count": 25,
     "metadata": {},
     "output_type": "execute_result"
    }
   ],
   "source": [
    "p.match('Python') # 정규식은 소문자만 포함했지만 re.IGNORECASE옵션을 사용해 대소문자 구분없이 매칭되도록 함"
   ]
  },
  {
   "cell_type": "code",
   "execution_count": 26,
   "metadata": {},
   "outputs": [
    {
     "data": {
      "text/plain": [
       "<re.Match object; span=(0, 1), match='P'>"
      ]
     },
     "execution_count": 26,
     "metadata": {},
     "output_type": "execute_result"
    }
   ],
   "source": [
    "p.match('PYTHON')"
   ]
  },
  {
   "cell_type": "markdown",
   "metadata": {},
   "source": [
    "##### MULTILINE, M\n",
    "\n",
    "\n",
    "- re.compile에서 [ ]안이 아닌 밖에서 ^이나 $가 사용되면 ^는 문자열의 처음을 의미하고 $는 마지막을 의미한다.\n",
    "    - ^python : 문자열이 반드시 python으로 시작해야 매치된다\n",
    "    - $python : 문자열이 반드시 python으로 끝나야 매치된다"
   ]
  },
  {
   "cell_type": "code",
   "execution_count": 27,
   "metadata": {},
   "outputs": [
    {
     "name": "stdout",
     "output_type": "stream",
     "text": [
      "['python one']\n"
     ]
    }
   ],
   "source": [
    "p = re.compile('^python\\s\\w+') # python으로 시작 + 공백 하나 + 문자 하나이상\n",
    "\n",
    "data = \"\"\"python one\n",
    "life is too short\n",
    "python two\n",
    "you need python\n",
    "python tree\"\"\"\n",
    "\n",
    "print(p.findall(data)) # ^ 에 의해 python이 사용된 첫 줄만 매칭됨, 여러줄을 보기위해서는 re.MULTILINE옵션을 사용해야함"
   ]
  },
  {
   "cell_type": "code",
   "execution_count": 28,
   "metadata": {},
   "outputs": [
    {
     "name": "stdout",
     "output_type": "stream",
     "text": [
      "['python one', 'python two', 'python tree']\n"
     ]
    }
   ],
   "source": [
    "p = re.compile('^python\\s\\w+', re.M) # python으로 시작 + 공백 하나 + 문자 하나이상\n",
    "\n",
    "data = \"\"\"python one\n",
    "life is too short\n",
    "python two\n",
    "you need python\n",
    "python tree\"\"\"\n",
    "\n",
    "print(p.findall(data)) # re.M 옵션을 통해 각 줄마다 패턴을 조사한 후 매치되는 문자열을 반환"
   ]
  },
  {
   "cell_type": "markdown",
   "metadata": {},
   "source": [
    "##### VERBOSE, X"
   ]
  },
  {
   "cell_type": "code",
   "execution_count": 29,
   "metadata": {},
   "outputs": [],
   "source": [
    "charref = re.compile(r'&[#](0[0-7]+|[0-9]+|x[0-9a-fA-F]+);') # 해석이 잘 되지않음"
   ]
  },
  {
   "cell_type": "code",
   "execution_count": 30,
   "metadata": {},
   "outputs": [],
   "source": [
    "charref = re.compile(r\"\"\"\n",
    "&[#] # Start of a numeric entity reference\n",
    "(\n",
    "    0[0-7]+ # Octal form\n",
    "    | [0-9]+ # Decimal form\n",
    "    | x[0-9a-fA-F]+ # Hexadecimal form\n",
    ")\n",
    "; # Trailing semicolon\n",
    "\"\"\", re.VERBOSE) \n",
    "# re.VERBOSE 옵션을 사용하면 정규표현식안에서 공백문자와 줄별로 주석을 사용할 수 있음, 컴파일될 때 공백과 주석은 사라지고 컴파일됨"
   ]
  },
  {
   "cell_type": "markdown",
   "metadata": {},
   "source": [
    "### 백슬래시\n",
    "\n",
    "- 파이썬의 리터럴 규칙으로 인해 \\를 문자열에 포함시키기 위해서는 \\\\와 같이 추가 \\로 이스케이프 처리해야한다.\n",
    "- 위와같은 작업은 귀찮기 때문에 r''을 사용하면 이스케이프 처리해주지 않아도 된다.\n",
    "\n",
    "**Raw string임을 알려주는 기호 `r`**"
   ]
  },
  {
   "cell_type": "code",
   "execution_count": 31,
   "metadata": {},
   "outputs": [],
   "source": [
    "p = re.compile('\\\\\\\\section')"
   ]
  },
  {
   "cell_type": "code",
   "execution_count": 32,
   "metadata": {},
   "outputs": [],
   "source": [
    "p = re.compile(r'\\\\section') # 위의 코드의 같은 표현"
   ]
  },
  {
   "cell_type": "markdown",
   "metadata": {},
   "source": [
    "------------\n",
    "- **위에서 살펴본 메타문자들은 매치가 진행될 때 현재 매치되고 있는 문자열의 위치가 변경된다. 소비된다라고도 표현하는데 나의 이해로는 패턴과 문자열이 매칭되면 match객체의 group으로 들어가는지 안들어가는지가 소비된다 안된다의 기준인 듯하다..**\n",
    "\n",
    "#### |\n",
    "\n",
    "> or과 동일한 의미로 사용됨\n",
    "\n",
    "\n",
    "    "
   ]
  },
  {
   "cell_type": "code",
   "execution_count": 33,
   "metadata": {},
   "outputs": [
    {
     "name": "stdout",
     "output_type": "stream",
     "text": [
      "<re.Match object; span=(0, 4), match='Crow'>\n"
     ]
    }
   ],
   "source": [
    "p = re.compile('Crow|Servo') # Crow또는 Servo\n",
    "m = p.match('CrowHello')\n",
    "print(m)"
   ]
  },
  {
   "cell_type": "markdown",
   "metadata": {},
   "source": [
    "#### ^\n",
    "> 문자열의 맨 처음"
   ]
  },
  {
   "cell_type": "code",
   "execution_count": 34,
   "metadata": {},
   "outputs": [
    {
     "name": "stdout",
     "output_type": "stream",
     "text": [
      "<re.Match object; span=(0, 4), match='Life'>\n",
      "None\n"
     ]
    }
   ],
   "source": [
    "print(re.search('^Life', 'Life is too short'))\n",
    "print(re.search('^Life', 'My Life'))"
   ]
  },
  {
   "cell_type": "markdown",
   "metadata": {},
   "source": [
    "#### $\n",
    "\n",
    "> 문자열의 끝"
   ]
  },
  {
   "cell_type": "code",
   "execution_count": 35,
   "metadata": {},
   "outputs": [
    {
     "name": "stdout",
     "output_type": "stream",
     "text": [
      "<re.Match object; span=(12, 17), match='short'>\n",
      "None\n"
     ]
    }
   ],
   "source": [
    "print(re.search('short$', 'life is too short'))\n",
    "print(re.search('short$', 'life is too short, you need python'))"
   ]
  },
  {
   "cell_type": "markdown",
   "metadata": {},
   "source": [
    "#### \\A\n",
    "\n",
    "> 문자열의 처음이지만 MULTILINE 옵션이 주어질 때도 문자열 전체의 처음하고만 매치됨"
   ]
  },
  {
   "cell_type": "markdown",
   "metadata": {},
   "source": [
    "#### \\Z\n",
    "\n",
    "> 문자열의 끝이지만 MULTILINE 옵션이 주어질 때도 문자열 전체의 끝하고만 매치됨"
   ]
  },
  {
   "cell_type": "markdown",
   "metadata": {},
   "source": [
    "#### \\b\n",
    "\n",
    "> 단어구분자(whitespace)"
   ]
  },
  {
   "cell_type": "code",
   "execution_count": 36,
   "metadata": {},
   "outputs": [
    {
     "name": "stdout",
     "output_type": "stream",
     "text": [
      "<re.Match object; span=(3, 8), match='class'>\n"
     ]
    }
   ],
   "source": [
    "p = re.compile(r'\\bclass\\b')\n",
    "print(p.search('no class at all'))"
   ]
  },
  {
   "cell_type": "code",
   "execution_count": 37,
   "metadata": {},
   "outputs": [
    {
     "name": "stdout",
     "output_type": "stream",
     "text": [
      "None\n"
     ]
    }
   ],
   "source": [
    "print(p.search('the declassified algorithm')) # class 양쪽에 단어구분자가 없어서 매치가 되지 않음"
   ]
  },
  {
   "cell_type": "code",
   "execution_count": 38,
   "metadata": {},
   "outputs": [
    {
     "name": "stdout",
     "output_type": "stream",
     "text": [
      "None\n"
     ]
    }
   ],
   "source": [
    "print(p.search('one subclass is'))"
   ]
  },
  {
   "cell_type": "markdown",
   "metadata": {},
   "source": [
    "#### \\B\n",
    "\n",
    "> \\b와 반대인 경우, whitespace가 아닌 경우에 매치됨"
   ]
  },
  {
   "cell_type": "code",
   "execution_count": 39,
   "metadata": {},
   "outputs": [
    {
     "name": "stdout",
     "output_type": "stream",
     "text": [
      "None\n"
     ]
    }
   ],
   "source": [
    "p = re.compile(r'\\Bclass\\B')\n",
    "print(p.search('no class at all'))"
   ]
  },
  {
   "cell_type": "code",
   "execution_count": 40,
   "metadata": {},
   "outputs": [
    {
     "name": "stdout",
     "output_type": "stream",
     "text": [
      "<re.Match object; span=(6, 11), match='class'>\n"
     ]
    }
   ],
   "source": [
    "print(p.search('the declassified algorithm'))"
   ]
  },
  {
   "cell_type": "code",
   "execution_count": 41,
   "metadata": {},
   "outputs": [
    {
     "name": "stdout",
     "output_type": "stream",
     "text": [
      "None\n"
     ]
    }
   ],
   "source": [
    "print(p.search('one subclass is '))"
   ]
  },
  {
   "cell_type": "markdown",
   "metadata": {},
   "source": [
    "### 그루핑\n",
    "\n",
    "> 문자그룹이 반복되는지 조사하기 위한 기능 \n",
    "\n",
    "- example\n",
    "    1. (ABC)+ : ABC가 1번 이상 반복\n"
   ]
  },
  {
   "cell_type": "code",
   "execution_count": 42,
   "metadata": {},
   "outputs": [
    {
     "name": "stdout",
     "output_type": "stream",
     "text": [
      "<re.Match object; span=(0, 9), match='ABCABCABC'>\n"
     ]
    }
   ],
   "source": [
    "p = re.compile(r'(ABC)+')\n",
    "m = p.search('ABCABCABC OK?')\n",
    "print(m)"
   ]
  },
  {
   "cell_type": "code",
   "execution_count": 43,
   "metadata": {},
   "outputs": [
    {
     "name": "stdout",
     "output_type": "stream",
     "text": [
      "ABCABCABC\n"
     ]
    }
   ],
   "source": [
    "print(m.group())"
   ]
  },
  {
   "cell_type": "code",
   "execution_count": 44,
   "metadata": {},
   "outputs": [],
   "source": [
    "p = re.compile(r'\\w+\\s+\\d+[-]\\d+[-]\\d+')\n",
    "m = p.search('park 010-1234-1234')"
   ]
  },
  {
   "cell_type": "markdown",
   "metadata": {},
   "source": [
    "##### 그루핑을 하면  group method사용시 인덱싱을 사용할 수 있다."
   ]
  },
  {
   "cell_type": "code",
   "execution_count": 45,
   "metadata": {},
   "outputs": [
    {
     "name": "stdout",
     "output_type": "stream",
     "text": [
      "park\n"
     ]
    }
   ],
   "source": [
    "p = re.compile(r'(\\w+)\\s+\\d+[-]\\d+[-]\\d+')\n",
    "m = p.search('park 010-1234-1234')\n",
    "print(m.group(1))"
   ]
  },
  {
   "cell_type": "code",
   "execution_count": 46,
   "metadata": {},
   "outputs": [
    {
     "name": "stdout",
     "output_type": "stream",
     "text": [
      "010-1234-1234\n"
     ]
    }
   ],
   "source": [
    "p = re.compile(r'(\\w+)\\s+(\\d+[-]\\d+[-]\\d+)')\n",
    "m = p.search('park 010-1234-1234')\n",
    "print(m.group(2))"
   ]
  },
  {
   "cell_type": "markdown",
   "metadata": {},
   "source": [
    "##### 그루핑된 문자열 재참조하기"
   ]
  },
  {
   "cell_type": "code",
   "execution_count": 47,
   "metadata": {},
   "outputs": [
    {
     "data": {
      "text/plain": [
       "'the the'"
      ]
     },
     "execution_count": 47,
     "metadata": {},
     "output_type": "execute_result"
    }
   ],
   "source": [
    "p = re.compile(r'(\\b\\w+)\\s+\\1') # (그룹) + \" \" + 그룹과 동일한 단어(\\1), 정규식안에서 인덱스로 그룹참조 가능\n",
    "p.search('Paris in the the spring').group()\n"
   ]
  },
  {
   "cell_type": "markdown",
   "metadata": {},
   "source": [
    "##### 그루핑된 문자열에 이름 붙이기\n",
    "\n",
    "> (?P<그룹명>...)"
   ]
  },
  {
   "cell_type": "code",
   "execution_count": 48,
   "metadata": {},
   "outputs": [
    {
     "name": "stdout",
     "output_type": "stream",
     "text": [
      "park\n"
     ]
    }
   ],
   "source": [
    "p = re.compile(r'(?P<name>\\w+)\\s+((\\d+)[-]\\d+[-]\\d+)')\n",
    "m = p.search('park 010-1234-1234')\n",
    "print(m.group('name')) # 이름으로 인덱싱하기"
   ]
  },
  {
   "cell_type": "code",
   "execution_count": 49,
   "metadata": {},
   "outputs": [
    {
     "name": "stdout",
     "output_type": "stream",
     "text": [
      "the the\n"
     ]
    }
   ],
   "source": [
    "p = re.compile(r'(?P<word>\\b\\w+)\\s+(?P=word)') # 정규식안에서 이름으로 참조가능\n",
    "m = p.search('konkuk in the the spring')\n",
    "print(m.group()) # 이름으로 인덱싱하기"
   ]
  },
  {
   "cell_type": "markdown",
   "metadata": {},
   "source": [
    "### 전방탐색\n",
    "\n",
    "#### 긍정형 전방 탐색\n",
    "> (?=...) : ...에 해당되는 정규식과 매치 되어야하며 조건이 통과되어도 문자열이 소비되지 않음\n",
    "\n",
    "#### 부정형 전방 탐색\n",
    "> (?!...) : ...에 해당되는 정규식과 매치 되지 않아야하며 조건이 통과되어도 문자열이 소비되지 않음"
   ]
  },
  {
   "cell_type": "code",
   "execution_count": 50,
   "metadata": {},
   "outputs": [
    {
     "name": "stdout",
     "output_type": "stream",
     "text": [
      "http:\n"
     ]
    }
   ],
   "source": [
    "p = re.compile('.+:')\n",
    "m = p.search('http://google.com')\n",
    "print(m.group())"
   ]
  },
  {
   "cell_type": "code",
   "execution_count": 51,
   "metadata": {},
   "outputs": [
    {
     "name": "stdout",
     "output_type": "stream",
     "text": [
      "http\n"
     ]
    }
   ],
   "source": [
    "p= re.compile('.+(?=:)') \n",
    "m = p.search('http://google.com')\n",
    "print(m.group()) # :이 소비되지 않기 때문에 group으로 나오지 않음"
   ]
  },
  {
   "cell_type": "code",
   "execution_count": 52,
   "metadata": {},
   "outputs": [
    {
     "name": "stdout",
     "output_type": "stream",
     "text": [
      "None\n"
     ]
    }
   ],
   "source": [
    "p = re.compile(r'.*[.](?!bat$|exe$).*$') # 문자열의 끝이 bat 또는 exe가 아닌 파일이름 \n",
    "m = p.search('play.exe')\n",
    "print(m)"
   ]
  },
  {
   "cell_type": "markdown",
   "metadata": {},
   "source": [
    "### 문자열 바꾸기"
   ]
  },
  {
   "cell_type": "markdown",
   "metadata": {},
   "source": [
    "##### match object의 sub"
   ]
  },
  {
   "cell_type": "code",
   "execution_count": 53,
   "metadata": {},
   "outputs": [
    {
     "data": {
      "text/plain": [
       "'colour socks and colour shoes'"
      ]
     },
     "execution_count": 53,
     "metadata": {},
     "output_type": "execute_result"
    }
   ],
   "source": [
    "p = re.compile('(blue|white|red)')\n",
    "p.sub('colour', 'blue socks and red shoes') # 컴파일된 패턴에 매치되는 문자열을 'colour'로 바꿈\n"
   ]
  },
  {
   "cell_type": "code",
   "execution_count": 54,
   "metadata": {},
   "outputs": [
    {
     "data": {
      "text/plain": [
       "'colour socks and red shoes'"
      ]
     },
     "execution_count": 54,
     "metadata": {},
     "output_type": "execute_result"
    }
   ],
   "source": [
    "p.sub('colour', 'blue socks and red shoes', count =1) # count인자로 바꿀 횟수제어가능\n"
   ]
  },
  {
   "cell_type": "markdown",
   "metadata": {},
   "source": [
    "##### subn "
   ]
  },
  {
   "cell_type": "code",
   "execution_count": 55,
   "metadata": {},
   "outputs": [
    {
     "data": {
      "text/plain": [
       "('colour socks and colour shoes', 2)"
      ]
     },
     "execution_count": 55,
     "metadata": {},
     "output_type": "execute_result"
    }
   ],
   "source": [
    "p.subn('colour', 'blue socks and red shoes') # 반환 결과를 튜플로 돌려주고 변환 횟수도 같이 포함"
   ]
  },
  {
   "cell_type": "markdown",
   "metadata": {},
   "source": [
    "#### sub method 사용 시 참조 구문 사용\n",
    "\n",
    "> \\g<그룹이름>"
   ]
  },
  {
   "cell_type": "code",
   "execution_count": 56,
   "metadata": {},
   "outputs": [
    {
     "name": "stdout",
     "output_type": "stream",
     "text": [
      "010-1234-1234 park\n"
     ]
    }
   ],
   "source": [
    "p = re.compile(r'(?P<name>\\w+)\\s+(?P<phone>(\\d+)[-]\\d+[-]\\d+)')\n",
    "print(p.sub(\"\\g<phone> \\g<name>\", \"park 010-1234-1234\")) # 주어지는 문자열 탐색후 그룹핑에 매치되는 문자열을 참조를 통해 가져옴?"
   ]
  },
  {
   "cell_type": "code",
   "execution_count": 57,
   "metadata": {},
   "outputs": [
    {
     "name": "stdout",
     "output_type": "stream",
     "text": [
      "010-1234-1234 park\n"
     ]
    }
   ],
   "source": [
    "p = re.compile(r'(?P<name>\\w+)\\s+(?P<phone>(\\d+)[-]\\d+[-]\\d+)')\n",
    "print(p.sub(\"\\g<2> \\g<1>\", \"park 010-1234-1234\")) # 주어지는 문자열 탐색후 그룹핑에 매치되는 문자열을 참조를 통해 가져옴, 숫자 인덱스로도 가능"
   ]
  },
  {
   "cell_type": "markdown",
   "metadata": {},
   "source": [
    "#### sub 메서도의 매개변수로 함수 넣기"
   ]
  },
  {
   "cell_type": "code",
   "execution_count": 58,
   "metadata": {},
   "outputs": [
    {
     "data": {
      "text/plain": [
       "'call 0x4d2 for printing, 0x894a6 for user code'"
      ]
     },
     "execution_count": 58,
     "metadata": {},
     "output_type": "execute_result"
    }
   ],
   "source": [
    "def hexrepl(match):\n",
    "    value = int(match.group())\n",
    "    return hex(value)\n",
    "\n",
    "p = re.compile(r'\\d+')\n",
    "p.sub(hexrepl, 'call 1234 for printing, 562342 for user code') # 컴파일된 패턴과 매치된 match 객체를 함수의 인자로 넘겨주고 처리됨"
   ]
  },
  {
   "cell_type": "markdown",
   "metadata": {},
   "source": [
    "### Greedy vs Non-Greedy"
   ]
  },
  {
   "cell_type": "code",
   "execution_count": 59,
   "metadata": {},
   "outputs": [
    {
     "data": {
      "text/plain": [
       "32"
      ]
     },
     "execution_count": 59,
     "metadata": {},
     "output_type": "execute_result"
    }
   ],
   "source": [
    "s = '<html><head><title>Title</title>'\n",
    "len(s)"
   ]
  },
  {
   "cell_type": "code",
   "execution_count": 60,
   "metadata": {},
   "outputs": [
    {
     "name": "stdout",
     "output_type": "stream",
     "text": [
      "(0, 32)\n"
     ]
    }
   ],
   "source": [
    "print(re.match('<.*>', s).span())"
   ]
  },
  {
   "cell_type": "code",
   "execution_count": 61,
   "metadata": {},
   "outputs": [
    {
     "name": "stdout",
     "output_type": "stream",
     "text": [
      "<html><head><title>Title</title>\n"
     ]
    }
   ],
   "source": [
    "print(re.match('<.*>', s).group()) # * 는 탐욕스럽기때문에 첫번째 <>이 아닌 끝까지 다 찾음"
   ]
  },
  {
   "cell_type": "code",
   "execution_count": 62,
   "metadata": {},
   "outputs": [
    {
     "name": "stdout",
     "output_type": "stream",
     "text": [
      "<html>\n"
     ]
    }
   ],
   "source": [
    "print(re.match('<.*?>', s).group()) # ?를 사용하면 탐욕을 제한할 수 있음, 가장 최소한의 반복을 수행하도록 함."
   ]
  }
 ],
 "metadata": {
  "kernelspec": {
   "display_name": "Python 3",
   "language": "python",
   "name": "python3"
  },
  "language_info": {
   "codemirror_mode": {
    "name": "ipython",
    "version": 3
   },
   "file_extension": ".py",
   "mimetype": "text/x-python",
   "name": "python",
   "nbconvert_exporter": "python",
   "pygments_lexer": "ipython3",
   "version": "3.7.3"
  }
 },
 "nbformat": 4,
 "nbformat_minor": 2
}
